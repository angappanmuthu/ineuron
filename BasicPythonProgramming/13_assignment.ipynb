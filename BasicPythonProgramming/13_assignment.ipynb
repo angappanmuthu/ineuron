{
 "cells": [
  {
   "cell_type": "markdown",
   "metadata": {
    "collapsed": true,
    "pycharm": {
     "name": "#%% md\n"
    }
   },
   "source": [
    "## Question 1:\n",
    "    Write a program that calculates and prints the value according to the given formula:\n",
    "        Q = Square root of [(2 * C * D)/H]\n",
    "    Following are the fixed values of C and H:\n",
    "        C is 50. H is 30.\n",
    "    D is the variable whose values should be input to your program in a comma-separated\n",
    "    sequence."
   ]
  },
  {
   "cell_type": "code",
   "execution_count": 10,
   "outputs": [
    {
     "name": "stdout",
     "output_type": "stream",
     "text": [
      "6 "
     ]
    }
   ],
   "source": [
    "import math\n",
    "\n",
    "c,h = 50,30\n",
    "q = lambda d: ((2 * c * d)/h)\n",
    "data = list(map(int,input().split(',')))\n",
    "for d in data:\n",
    "    print(int(math.sqrt(q(d))),end=\" \")"
   ],
   "metadata": {
    "collapsed": false,
    "pycharm": {
     "name": "#%%\n"
    }
   }
  },
  {
   "cell_type": "markdown",
   "source": [
    "## Question 2:\n",
    "    Write a program which takes 2 digits, X,Y as input and generates a 2-dimensional array. The\n",
    "    element value in the i-th row and j-th column of the array should be i*j."
   ],
   "metadata": {
    "collapsed": false,
    "pycharm": {
     "name": "#%% md\n"
    }
   }
  },
  {
   "cell_type": "code",
   "execution_count": 12,
   "outputs": [
    {
     "name": "stdout",
     "output_type": "stream",
     "text": [
      "[[0, 0, 0, 0, 0], [0, 1, 2, 3, 4], [0, 2, 4, 6, 8]]\n"
     ]
    }
   ],
   "source": [
    "x,y = 3,5\n",
    "\n",
    "l = list()\n",
    "for i in range(x):\n",
    "    l.append([k*i for k in range(y)])\n",
    "\n",
    "print(l)"
   ],
   "metadata": {
    "collapsed": false,
    "pycharm": {
     "name": "#%%\n"
    }
   }
  },
  {
   "cell_type": "markdown",
   "source": [
    "## Question 3:\n",
    "    Write a program that accepts a comma separated sequence of words as input and prints the\n",
    "    words in a comma-separated sequence after sorting them alphabetically."
   ],
   "metadata": {
    "collapsed": false,
    "pycharm": {
     "name": "#%% md\n"
    }
   }
  },
  {
   "cell_type": "code",
   "execution_count": 14,
   "outputs": [
    {
     "name": "stdout",
     "output_type": "stream",
     "text": [
      "['bag', 'hello', 'without', 'world']\n"
     ]
    }
   ],
   "source": [
    "s = 'without,hello,bag,world'\n",
    "data = list(s.split(','))\n",
    "print(sorted(data))"
   ],
   "metadata": {
    "collapsed": false,
    "pycharm": {
     "name": "#%%\n"
    }
   }
  },
  {
   "cell_type": "markdown",
   "source": [
    "## Question 4:\n",
    "    Write a program that accepts a sequence of whitespace separated words as input and prints\n",
    "    the words after removing all duplicate words and sorting them alphanumerically."
   ],
   "metadata": {
    "collapsed": false,
    "pycharm": {
     "name": "#%% md\n"
    }
   }
  },
  {
   "cell_type": "code",
   "execution_count": 15,
   "outputs": [
    {
     "name": "stdout",
     "output_type": "stream",
     "text": [
      "again and hello makes perfect practice world\n"
     ]
    }
   ],
   "source": [
    "s = \"hello world and practice makes perfect and hello world again\"\n",
    "l = s.split()\n",
    "k = []\n",
    "for i in l:\n",
    "    if (s.count(i)>=1 and (i not in k)):\n",
    "        k.append(i)\n",
    "print(' '.join(sorted(k)))"
   ],
   "metadata": {
    "collapsed": false,
    "pycharm": {
     "name": "#%%\n"
    }
   }
  },
  {
   "cell_type": "markdown",
   "source": [
    "## Question 5:\n",
    "    Write a program that accepts a sentence and calculate the number of letters and digits."
   ],
   "metadata": {
    "collapsed": false,
    "pycharm": {
     "name": "#%% md\n"
    }
   }
  },
  {
   "cell_type": "code",
   "execution_count": 16,
   "outputs": [
    {
     "name": "stdout",
     "output_type": "stream",
     "text": [
      "Total letters found : 13\n",
      "Total digits found : 2\n"
     ]
    }
   ],
   "source": [
    "# define all digits as string\n",
    "all_digits = [str(i) for i in range(10)]\n",
    "\n",
    "# define all letters\n",
    "all_letters = list(map(chr, range(97, 123)))\n",
    "\n",
    "# given string\n",
    "string = \"geeks2for3geeks\"\n",
    "\n",
    "# initialized value\n",
    "total_digits = 0\n",
    "total_letters = 0\n",
    "\n",
    "for s in string:\n",
    "\n",
    "    # if character found in all_digits then increment total_digits by one\n",
    "    if s in all_digits:\n",
    "        total_digits += 1\n",
    "\n",
    "    # if character not found in all_digits then increment total_letters by one\n",
    "    else:\n",
    "        total_letters += 1\n",
    "\n",
    "print(\"Total letters found :\", total_letters)\n",
    "print(\"Total digits found :\", total_digits)"
   ],
   "metadata": {
    "collapsed": false,
    "pycharm": {
     "name": "#%%\n"
    }
   }
  },
  {
   "cell_type": "markdown",
   "source": [
    "## Question 6\n",
    "    Your program should accept a sequence of comma separated passwords and will check them\n",
    "    according to the above criteria. Passwords that match the criteria are to be printed, each\n",
    "    separated by a comma."
   ],
   "metadata": {
    "collapsed": false,
    "pycharm": {
     "name": "#%% md\n"
    }
   }
  },
  {
   "cell_type": "code",
   "execution_count": 17,
   "outputs": [
    {
     "name": "stdout",
     "output_type": "stream",
     "text": [
      "Password is valid.\n"
     ]
    }
   ],
   "source": [
    "# importing re library\n",
    "import re\n",
    "\n",
    "def is_valid():\n",
    "    passwd = 'Geek12@'\n",
    "    reg = '^(?=.*[a-z])(?=.*[A-Z])(?=.*\\d)(?=.*[@$!%*#?&])[A-Za-z\\d@$!#%*?&]{6,20}'\n",
    "\n",
    "    # compiling regex\n",
    "    pat = re.compile(reg)\n",
    "\n",
    "    # searching regex\n",
    "    mat = re.search(pat, passwd)\n",
    "\n",
    "    # validating conditions\n",
    "    if mat:\n",
    "        print(\"Password is valid.\")\n",
    "    else:\n",
    "        print(\"Password invalid !!\")\n",
    "\n",
    "is_valid()\n"
   ],
   "metadata": {
    "collapsed": false,
    "pycharm": {
     "name": "#%%\n"
    }
   }
  },
  {
   "cell_type": "code",
   "execution_count": null,
   "outputs": [],
   "source": [],
   "metadata": {
    "collapsed": false,
    "pycharm": {
     "name": "#%%\n"
    }
   }
  }
 ],
 "metadata": {
  "kernelspec": {
   "display_name": "Python 3",
   "language": "python",
   "name": "python3"
  },
  "language_info": {
   "codemirror_mode": {
    "name": "ipython",
    "version": 2
   },
   "file_extension": ".py",
   "mimetype": "text/x-python",
   "name": "python",
   "nbconvert_exporter": "python",
   "pygments_lexer": "ipython2",
   "version": "2.7.6"
  }
 },
 "nbformat": 4,
 "nbformat_minor": 0
}