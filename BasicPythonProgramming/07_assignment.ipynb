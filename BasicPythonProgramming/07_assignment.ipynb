{
 "cells": [
  {
   "cell_type": "markdown",
   "metadata": {
    "collapsed": true,
    "pycharm": {
     "name": "#%% md\n"
    }
   },
   "source": [
    "## 1. Write a Python Program to find sum of array?"
   ]
  },
  {
   "cell_type": "code",
   "execution_count": 7,
   "outputs": [
    {
     "name": "stdout",
     "output_type": "stream",
     "text": [
      "4\n"
     ]
    }
   ],
   "source": [
    "data = list(map(int,input(\"Enter element with single space: \").split()))\n",
    "print(sum(data))"
   ],
   "metadata": {
    "collapsed": false,
    "pycharm": {
     "name": "#%%\n"
    }
   }
  },
  {
   "cell_type": "markdown",
   "source": [
    "## 2. Write a Python Program to find largest element in an array?"
   ],
   "metadata": {
    "collapsed": false,
    "pycharm": {
     "name": "#%% md\n"
    }
   }
  },
  {
   "cell_type": "code",
   "execution_count": 8,
   "outputs": [
    {
     "name": "stdout",
     "output_type": "stream",
     "text": [
      "10\n"
     ]
    }
   ],
   "source": [
    "data = list(map(int,input(\"Enter element with single space: \").split()))\n",
    "print(max(data))"
   ],
   "metadata": {
    "collapsed": false,
    "pycharm": {
     "name": "#%%\n"
    }
   }
  },
  {
   "cell_type": "markdown",
   "source": [
    "## 3. Write a Python Program for array rotation?"
   ],
   "metadata": {
    "collapsed": false,
    "pycharm": {
     "name": "#%% md\n"
    }
   }
  },
  {
   "cell_type": "code",
   "execution_count": 9,
   "outputs": [
    {
     "name": "stdout",
     "output_type": "stream",
     "text": [
      "Array after left rotation is:  [3, 4, 5, 6, 7, 1, 2]\n"
     ]
    }
   ],
   "source": [
    "def rotateArray(arr, n, d):\n",
    "    temp = []\n",
    "    i = 0\n",
    "    while (i < d):\n",
    "        temp.append(arr[i])\n",
    "        i = i + 1\n",
    "    i = 0\n",
    "    while (d < n):\n",
    "        arr[i] = arr[d]\n",
    "        i = i + 1\n",
    "        d = d + 1\n",
    "    arr[:] = arr[: i] + temp\n",
    "    return arr\n",
    "\n",
    "arr = [1, 2, 3, 4, 5, 6, 7]\n",
    "print(\"Array after left rotation is: \", end=' ')\n",
    "print(rotateArray(arr, len(arr), 2))"
   ],
   "metadata": {
    "collapsed": false,
    "pycharm": {
     "name": "#%%\n"
    }
   }
  },
  {
   "cell_type": "markdown",
   "source": [
    "## 4. Write a Python Program to Split the array and add the first part to the end?"
   ],
   "metadata": {
    "collapsed": false,
    "pycharm": {
     "name": "#%% md\n"
    }
   }
  },
  {
   "cell_type": "code",
   "execution_count": 10,
   "outputs": [
    {
     "name": "stdout",
     "output_type": "stream",
     "text": [
      "5 6 52 36 12 10 "
     ]
    }
   ],
   "source": [
    "def splitArr(arr, n, k):\n",
    "    for i in range(0, k):\n",
    "        x = arr[0]\n",
    "        for j in range(0, n-1):\n",
    "            arr[j] = arr[j + 1]\n",
    "\n",
    "        arr[n-1] = x\n",
    "\n",
    "# main\n",
    "arr = [12, 10, 5, 6, 52, 36]\n",
    "n = len(arr)\n",
    "position = 2\n",
    "\n",
    "splitArr(arr, n, position)\n",
    "\n",
    "for i in range(0, n):\n",
    "    print(arr[i], end = ' ')"
   ],
   "metadata": {
    "collapsed": false,
    "pycharm": {
     "name": "#%%\n"
    }
   }
  },
  {
   "cell_type": "markdown",
   "source": [
    "## 5. Write a Python Program to check if given array is Monotonic?"
   ],
   "metadata": {
    "collapsed": false,
    "pycharm": {
     "name": "#%% md\n"
    }
   }
  },
  {
   "cell_type": "code",
   "execution_count": 11,
   "outputs": [
    {
     "name": "stdout",
     "output_type": "stream",
     "text": [
      "True\n"
     ]
    }
   ],
   "source": [
    "def isMonotonic(A):\n",
    "\n",
    "    return (all(A[i] <= A[i + 1] for i in range(len(A) - 1)) or\n",
    "            all(A[i] >= A[i + 1] for i in range(len(A) - 1)))\n",
    "\n",
    "A = [6, 5, 4, 4]\n",
    "\n",
    "print(isMonotonic(A))"
   ],
   "metadata": {
    "collapsed": false,
    "pycharm": {
     "name": "#%%\n"
    }
   }
  },
  {
   "cell_type": "code",
   "execution_count": null,
   "outputs": [],
   "source": [],
   "metadata": {
    "collapsed": false,
    "pycharm": {
     "name": "#%%\n"
    }
   }
  }
 ],
 "metadata": {
  "kernelspec": {
   "display_name": "Python 3",
   "language": "python",
   "name": "python3"
  },
  "language_info": {
   "codemirror_mode": {
    "name": "ipython",
    "version": 2
   },
   "file_extension": ".py",
   "mimetype": "text/x-python",
   "name": "python",
   "nbconvert_exporter": "python",
   "pygments_lexer": "ipython2",
   "version": "2.7.6"
  }
 },
 "nbformat": 4,
 "nbformat_minor": 0
}