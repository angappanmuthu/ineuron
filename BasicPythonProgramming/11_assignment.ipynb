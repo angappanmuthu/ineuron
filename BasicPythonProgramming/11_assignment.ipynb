{
 "cells": [
  {
   "cell_type": "markdown",
   "metadata": {
    "collapsed": true,
    "pycharm": {
     "name": "#%% md\n"
    }
   },
   "source": [
    "## 1. Write a Python program to find words which are greater than given length k?"
   ]
  },
  {
   "cell_type": "code",
   "execution_count": 5,
   "outputs": [
    {
     "name": "stdout",
     "output_type": "stream",
     "text": [
      "['Angappan', 'Muthu']\n"
     ]
    }
   ],
   "source": [
    "def string_k(k,s):\n",
    "    return [i for i in s if len(i) > k]\n",
    "\n",
    "k = 4\n",
    "print(string_k(k,['Angappan','Muthu','mani']))"
   ],
   "metadata": {
    "collapsed": false,
    "pycharm": {
     "name": "#%%\n"
    }
   }
  },
  {
   "cell_type": "markdown",
   "source": [
    "## 2. Write a Python program for removing i-th character from a string?"
   ],
   "metadata": {
    "collapsed": false,
    "pycharm": {
     "name": "#%% md\n"
    }
   }
  },
  {
   "cell_type": "code",
   "execution_count": 9,
   "outputs": [
    {
     "name": "stdout",
     "output_type": "stream",
     "text": [
      "bcd\n"
     ]
    }
   ],
   "source": [
    "i = 0\n",
    "s = list('abcd')\n",
    "del s[i]\n",
    "print(''.join(s))"
   ],
   "metadata": {
    "collapsed": false,
    "pycharm": {
     "name": "#%%\n"
    }
   }
  },
  {
   "cell_type": "markdown",
   "source": [
    "\n",
    "## 3. Write a Python program to split and join a string?"
   ],
   "metadata": {
    "collapsed": false,
    "pycharm": {
     "name": "#%% md\n"
    }
   }
  },
  {
   "cell_type": "code",
   "execution_count": 12,
   "outputs": [
    {
     "name": "stdout",
     "output_type": "stream",
     "text": [
      "abcd-efgh-ijkl\n"
     ]
    }
   ],
   "source": [
    "s = 'abcd efgh ijkl'.split()\n",
    "print('-'.join(s))"
   ],
   "metadata": {
    "collapsed": false,
    "pycharm": {
     "name": "#%%\n"
    }
   }
  },
  {
   "cell_type": "markdown",
   "source": [
    "## 4. Write a Python to check if a given string is binary string or not?"
   ],
   "metadata": {
    "collapsed": false,
    "pycharm": {
     "name": "#%% md\n"
    }
   }
  },
  {
   "cell_type": "code",
   "execution_count": 13,
   "outputs": [
    {
     "name": "stdout",
     "output_type": "stream",
     "text": [
      "Yes\n"
     ]
    }
   ],
   "source": [
    "def check(string) :\n",
    "\n",
    "    p = set(string)\n",
    "\n",
    "    s = {'0', '1'}\n",
    "\n",
    "    if s == p or p == {'0'} or p == {'1'}:\n",
    "        print(\"Yes\")\n",
    "    else :\n",
    "        print(\"No\")\n",
    "\n",
    "string = \"101010000111\"\n",
    "\n",
    "check(string)"
   ],
   "metadata": {
    "collapsed": false,
    "pycharm": {
     "name": "#%%\n"
    }
   }
  },
  {
   "cell_type": "markdown",
   "source": [
    "## 5. Write a Python program to find uncommon words from two Strings?"
   ],
   "metadata": {
    "collapsed": false,
    "pycharm": {
     "name": "#%% md\n"
    }
   }
  },
  {
   "cell_type": "code",
   "execution_count": 14,
   "outputs": [
    {
     "name": "stdout",
     "output_type": "stream",
     "text": [
      "['apple', 'fruits']\n"
     ]
    }
   ],
   "source": [
    "def uncommon(a,b):\n",
    "    a=a.split()\n",
    "    b=b.split()\n",
    "    k=set(a).symmetric_difference(set(b))\n",
    "    return k\n",
    "\n",
    "\n",
    "a=\"apple banana mango\"\n",
    "b=\"banana fruits mango\"\n",
    "print(list(uncommon(a,b)))"
   ],
   "metadata": {
    "collapsed": false,
    "pycharm": {
     "name": "#%%\n"
    }
   }
  },
  {
   "cell_type": "markdown",
   "source": [
    "## 6. Write a Python to find all duplicate characters in string?"
   ],
   "metadata": {
    "collapsed": false,
    "pycharm": {
     "name": "#%% md\n"
    }
   }
  },
  {
   "cell_type": "code",
   "execution_count": 21,
   "outputs": [
    {
     "name": "stdout",
     "output_type": "stream",
     "text": [
      "l\n",
      "o\n"
     ]
    }
   ],
   "source": [
    "from collections import Counter\n",
    "\n",
    "def find_dup_char(input):\n",
    "    WC = Counter(input)\n",
    "    j = -1\n",
    "\n",
    "    for i in WC.values():\n",
    "        j = j + 1\n",
    "        if( i > 1 ):\n",
    "            print(list(WC.keys())[j])\n",
    "\n",
    "\n",
    "input = 'hello world'\n",
    "find_dup_char(input)"
   ],
   "metadata": {
    "collapsed": false,
    "pycharm": {
     "name": "#%%\n"
    }
   }
  },
  {
   "cell_type": "markdown",
   "source": [
    "## 7. Write a Python Program to check if a string contains any special character?"
   ],
   "metadata": {
    "collapsed": false,
    "pycharm": {
     "name": "#%% md\n"
    }
   }
  },
  {
   "cell_type": "code",
   "execution_count": 22,
   "outputs": [
    {
     "name": "stdout",
     "output_type": "stream",
     "text": [
      "String is not accepted.\n"
     ]
    }
   ],
   "source": [
    "import re\n",
    "\n",
    "def run(string):\n",
    "\n",
    "\tregex = re.compile('[@_!#$%^&*()<>?/\\|}{~:]')\n",
    "\n",
    "\tif(regex.search(string) == None):\n",
    "\t\tprint(\"String is accepted\")\n",
    "\n",
    "\telse:\n",
    "\t\tprint(\"String is not accepted.\")\n",
    "\n",
    "string = \"Angappan$Muthu\"\n",
    "\n",
    "run(string)"
   ],
   "metadata": {
    "collapsed": false,
    "pycharm": {
     "name": "#%%\n"
    }
   }
  }
 ],
 "metadata": {
  "kernelspec": {
   "display_name": "Python 3",
   "language": "python",
   "name": "python3"
  },
  "language_info": {
   "codemirror_mode": {
    "name": "ipython",
    "version": 2
   },
   "file_extension": ".py",
   "mimetype": "text/x-python",
   "name": "python",
   "nbconvert_exporter": "python",
   "pygments_lexer": "ipython2",
   "version": "2.7.6"
  }
 },
 "nbformat": 4,
 "nbformat_minor": 0
}