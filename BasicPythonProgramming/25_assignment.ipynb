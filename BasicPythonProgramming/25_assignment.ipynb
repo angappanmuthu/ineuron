{
 "cells": [
  {
   "cell_type": "markdown",
   "metadata": {
    "collapsed": true,
    "pycharm": {
     "name": "#%% md\n"
    }
   },
   "source": [
    "## Question1\n",
    "    Create a function that takes three integer arguments (a, b, c) and returns the amount of\n",
    "    integers which are of equal value."
   ]
  },
  {
   "cell_type": "code",
   "execution_count": 4,
   "outputs": [
    {
     "name": "stdout",
     "output_type": "stream",
     "text": [
      "2\n"
     ]
    }
   ],
   "source": [
    "def equal(a,b,c):\n",
    "    count = 0\n",
    "    if a == b == c:\n",
    "        count = 3\n",
    "    elif a == b:\n",
    "        count = 2\n",
    "    elif a == c:\n",
    "        count = 2\n",
    "    elif b == c:\n",
    "        count = 2\n",
    "    return count\n",
    "\n",
    "print(equal(3,4,3))"
   ],
   "metadata": {
    "collapsed": false,
    "pycharm": {
     "name": "#%%\n"
    }
   }
  },
  {
   "cell_type": "markdown",
   "source": [
    "## Question2\n",
    "    Write a function that converts a dictionary into a list of keys-values tuples."
   ],
   "metadata": {
    "collapsed": false,
    "pycharm": {
     "name": "#%% md\n"
    }
   }
  },
  {
   "cell_type": "code",
   "execution_count": 12,
   "outputs": [
    {
     "name": "stdout",
     "output_type": "stream",
     "text": [
      "[('A', 1), ('B', 22), ('C', 33)]\n"
     ]
    }
   ],
   "source": [
    "def dict_to_list(d):\n",
    "    result = list()\n",
    "    for i in d.items():\n",
    "        result.append(i)\n",
    "    return sorted(result)\n",
    "        \n",
    "res = dict_to_list({ \"B\" : 22, \"A\" : 1,\"C\" : 33})\n",
    "print(res)"
   ],
   "metadata": {
    "collapsed": false,
    "pycharm": {
     "name": "#%%\n"
    }
   }
  },
  {
   "cell_type": "markdown",
   "source": [
    "## Question3\n",
    "    Write a function that creates a dictionary with each (key, value) pair being the (lower case,\n",
    "    upper case) versions of a letter, respectively."
   ],
   "metadata": {
    "collapsed": false,
    "pycharm": {
     "name": "#%% md\n"
    }
   }
  },
  {
   "cell_type": "code",
   "execution_count": 15,
   "outputs": [],
   "source": [
    "def mapping(arr):\n",
    "    result = dict()\n",
    "    for i in arr:\n",
    "        result.update({i : i.upper()})\n",
    "\n",
    "    print(result)"
   ],
   "metadata": {
    "collapsed": false,
    "pycharm": {
     "name": "#%%\n"
    }
   }
  },
  {
   "cell_type": "code",
   "execution_count": 16,
   "outputs": [
    {
     "name": "stdout",
     "output_type": "stream",
     "text": [
      "{'a': 'A', 'b': 'B', 'c': 'C'}\n"
     ]
    }
   ],
   "source": [
    "mapping([\"a\",\"b\",\"c\"])"
   ],
   "metadata": {
    "collapsed": false,
    "pycharm": {
     "name": "#%%\n"
    }
   }
  },
  {
   "cell_type": "markdown",
   "source": [
    "## Question5\n",
    "    Create a function that takes a string as input and capitalizes a letter if its ASCII code is even\n",
    "    and returns its lower case version if its ASCII code is odd."
   ],
   "metadata": {
    "collapsed": false,
    "pycharm": {
     "name": "#%% md\n"
    }
   }
  },
  {
   "cell_type": "code",
   "execution_count": 20,
   "outputs": [
    {
     "name": "stdout",
     "output_type": "stream",
     "text": [
      "To Be oR NoT To Be!\n"
     ]
    }
   ],
   "source": [
    "def ascii_capilize(s):\n",
    "    result_str = list(s)\n",
    "    for i,c in enumerate(s):\n",
    "        if ord(c)%2 == 0:\n",
    "            result_str[i] = c.upper()\n",
    "        \n",
    "    return ''.join(result_str)\n",
    "\n",
    "print(ascii_capilize('to be or not to be!'))"
   ],
   "metadata": {
    "collapsed": false,
    "pycharm": {
     "name": "#%%\n"
    }
   }
  },
  {
   "cell_type": "code",
   "execution_count": null,
   "outputs": [],
   "source": [],
   "metadata": {
    "collapsed": false,
    "pycharm": {
     "name": "#%%\n"
    }
   }
  }
 ],
 "metadata": {
  "kernelspec": {
   "display_name": "Python 3",
   "language": "python",
   "name": "python3"
  },
  "language_info": {
   "codemirror_mode": {
    "name": "ipython",
    "version": 2
   },
   "file_extension": ".py",
   "mimetype": "text/x-python",
   "name": "python",
   "nbconvert_exporter": "python",
   "pygments_lexer": "ipython2",
   "version": "2.7.6"
  }
 },
 "nbformat": 4,
 "nbformat_minor": 0
}