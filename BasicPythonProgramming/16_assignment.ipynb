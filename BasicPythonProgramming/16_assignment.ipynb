{
 "cells": [
  {
   "cell_type": "markdown",
   "metadata": {
    "collapsed": true,
    "pycharm": {
     "name": "#%% md\n"
    }
   },
   "source": [
    "## 1. Question\n",
    "    Write a function that stutters a word as if someone is struggling to read it. The\n",
    "    first two letters are repeated twice with an ellipsis ... and space after each, and then the\n",
    "    word is pronounced with a question mark ?."
   ]
  },
  {
   "cell_type": "code",
   "execution_count": 38,
   "outputs": [
    {
     "name": "stdout",
     "output_type": "stream",
     "text": [
      "in... in... incredible?\n"
     ]
    }
   ],
   "source": [
    "def stutter(sentence):\n",
    "    if len(sentence) >= 2:\n",
    "        f2l = sentence[:2]\n",
    "        stu = f2l + '... '\n",
    "        sent_list = list(sentence)\n",
    "        sent_list.insert(0,stu + stu)\n",
    "        print(''.join(sent_list) + '?')\n",
    "    else:\n",
    "        print('Sentence is too short')\n",
    "\n",
    "stutter('incredible')"
   ],
   "metadata": {
    "collapsed": false,
    "pycharm": {
     "name": "#%%\n"
    }
   }
  },
  {
   "cell_type": "markdown",
   "source": [
    "## 2. Question\n",
    "    Create a function that takes an angle in radians and returns the corresponding\n",
    "    angle in degrees rounded to one decimal place."
   ],
   "metadata": {
    "collapsed": false,
    "pycharm": {
     "name": "#%% md\n"
    }
   }
  },
  {
   "cell_type": "code",
   "execution_count": 39,
   "outputs": [
    {
     "name": "stdout",
     "output_type": "stream",
     "text": [
      "57.30\n"
     ]
    }
   ],
   "source": [
    "def radians_to_degree(radian):\n",
    "    pi = 3.14159\n",
    "    degree = radian * (180/pi)\n",
    "    return degree\n",
    "\n",
    "radian = 1\n",
    "print(f'{radians_to_degree(radian):.2f}')"
   ],
   "metadata": {
    "collapsed": false,
    "pycharm": {
     "name": "#%%\n"
    }
   }
  },
  {
   "cell_type": "markdown",
   "source": [
    "## Question\n",
    "3. In this challenge, establish if a given integer num is a Curzon number. If 1 plus\n",
    "2 elevated to num is exactly divisible by 1 plus 2 multiplied by num, then num is a Curzon\n",
    "number."
   ],
   "metadata": {
    "collapsed": false,
    "pycharm": {
     "name": "#%% md\n"
    }
   }
  },
  {
   "cell_type": "code",
   "execution_count": 40,
   "outputs": [
    {
     "name": "stdout",
     "output_type": "stream",
     "text": [
      "True\n"
     ]
    }
   ],
   "source": [
    "def is_curzon(num):\n",
    "    a = 2 ** num + 1\n",
    "    b = 2 * num + 1\n",
    "    return a%b == 0\n",
    "\n",
    "print(is_curzon(5))"
   ],
   "metadata": {
    "collapsed": false,
    "pycharm": {
     "name": "#%%\n"
    }
   }
  },
  {
   "cell_type": "markdown",
   "source": [
    "## Question\n",
    "    4.Given the side length x find the area of a hexagon."
   ],
   "metadata": {
    "collapsed": false,
    "pycharm": {
     "name": "#%% md\n"
    }
   }
  },
  {
   "cell_type": "code",
   "execution_count": 41,
   "outputs": [
    {
     "name": "stdout",
     "output_type": "stream",
     "text": [
      "2.60\n"
     ]
    }
   ],
   "source": [
    "import math\n",
    "def area_of_hexagon(s):\n",
    "    return (3 * math.sqrt(3) * (s**2)) / 2\n",
    "\n",
    "print(f'{area_of_hexagon(1):.2f}')\n"
   ],
   "metadata": {
    "collapsed": false,
    "pycharm": {
     "name": "#%%\n"
    }
   }
  },
  {
   "cell_type": "markdown",
   "source": [
    "## Question 5.\n",
    "    Create a function that returns a base-2 (binary) representation of a base-10\n",
    "    (decimal) string number. To convert is simple: ((2) means base-2 and (10) means base-10)\n",
    "    010101001(2) = 1 + 8 + 32 + 128."
   ],
   "metadata": {
    "collapsed": false,
    "pycharm": {
     "name": "#%% md\n"
    }
   }
  },
  {
   "cell_type": "code",
   "execution_count": 42,
   "outputs": [
    {
     "name": "stdout",
     "output_type": "stream",
     "text": [
      "1\n",
      "101\n",
      "1010\n"
     ]
    }
   ],
   "source": [
    "def decimalToBinary(n):\n",
    "    return bin(n).replace(\"0b\", \"\")\n",
    "\n",
    "print(decimalToBinary(1))\n",
    "print(decimalToBinary(5))\n",
    "print(decimalToBinary(10))"
   ],
   "metadata": {
    "collapsed": false,
    "pycharm": {
     "name": "#%%\n"
    }
   }
  },
  {
   "cell_type": "code",
   "execution_count": 42,
   "outputs": [],
   "source": [],
   "metadata": {
    "collapsed": false,
    "pycharm": {
     "name": "#%%\n"
    }
   }
  }
 ],
 "metadata": {
  "kernelspec": {
   "display_name": "Python 3",
   "language": "python",
   "name": "python3"
  },
  "language_info": {
   "codemirror_mode": {
    "name": "ipython",
    "version": 2
   },
   "file_extension": ".py",
   "mimetype": "text/x-python",
   "name": "python",
   "nbconvert_exporter": "python",
   "pygments_lexer": "ipython2",
   "version": "2.7.6"
  }
 },
 "nbformat": 4,
 "nbformat_minor": 0
}